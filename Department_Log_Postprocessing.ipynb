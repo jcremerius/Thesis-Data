{
 "cells": [
  {
   "cell_type": "code",
   "execution_count": null,
   "metadata": {},
   "outputs": [],
   "source": [
    "import pandas as pd\n",
    "import numpy as np"
   ]
  },
  {
   "cell_type": "code",
   "execution_count": null,
   "metadata": {},
   "outputs": [],
   "source": [
    "#read log generated from MIMIC-IV Event Log Generation Tool\n",
    "transfers = pd.read_csv(\"EL_2.csv\")"
   ]
  },
  {
   "cell_type": "code",
   "execution_count": null,
   "metadata": {},
   "outputs": [],
   "source": [
    "transfers = transfers.rename(columns={\"case:hadm_id\":\"hadm_id\", \"time:timestamp\":\"intime\", \"concept:name\":\"careunit\"})"
   ]
  },
  {
   "cell_type": "code",
   "execution_count": null,
   "metadata": {},
   "outputs": [],
   "source": [
    "transfers = transfers.sort_values([\"hadm_id\", \"intime\"])"
   ]
  },
  {
   "cell_type": "code",
   "execution_count": null,
   "metadata": {},
   "outputs": [],
   "source": [
    "transfers = transfers.loc[~transfers[\"hadm_id\"].isna()]"
   ]
  },
  {
   "cell_type": "code",
   "execution_count": null,
   "metadata": {},
   "outputs": [],
   "source": [
    "transfers.reset_index(inplace=True)"
   ]
  },
  {
   "cell_type": "code",
   "execution_count": null,
   "metadata": {},
   "outputs": [],
   "source": [
    "transfers.drop(\"index\", axis=1, inplace=True)"
   ]
  },
  {
   "cell_type": "code",
   "execution_count": null,
   "metadata": {},
   "outputs": [],
   "source": [
    "hf_t = transfers"
   ]
  },
  {
   "cell_type": "code",
   "execution_count": null,
   "metadata": {},
   "outputs": [],
   "source": [
    "hf_t[\"intime\"] = pd.to_datetime(hf_t[\"intime\"])\n",
    "hf_t[\"outtime\"] = pd.to_datetime(hf_t[\"outtime\"])"
   ]
  },
  {
   "cell_type": "code",
   "execution_count": null,
   "metadata": {},
   "outputs": [],
   "source": [
    "hf_t.loc[hf_t[\"outtime\"].isna(), \"outtime\"] = hf_t[\"intime\"] + pd.Timedelta(seconds=1)"
   ]
  },
  {
   "cell_type": "code",
   "execution_count": null,
   "metadata": {},
   "outputs": [],
   "source": [
    "hf_t.reset_index(inplace=True)\n",
    "hf_t.drop(\"index\", axis=1, inplace=True)"
   ]
  },
  {
   "cell_type": "code",
   "execution_count": null,
   "metadata": {},
   "outputs": [],
   "source": [
    "hf_t.loc[(hf_t[\"careunit\"].isna()) & (hf_t[\"eventtype\"] == \"discharge\"), \"careunit\"] = \"Discharged\"\n",
    "hf_t.loc[hf_t[\"eventtype\"] == \"discharge\", \"careunit\"] = \"Discharged\""
   ]
  },
  {
   "cell_type": "code",
   "execution_count": null,
   "metadata": {},
   "outputs": [],
   "source": [
    "hf_t.loc[(hf_t[\"careunit\"].isna()), \"careunit\"] = \"Unknown\""
   ]
  },
  {
   "cell_type": "code",
   "execution_count": null,
   "metadata": {},
   "outputs": [],
   "source": [
    "hf_t"
   ]
  },
  {
   "cell_type": "code",
   "execution_count": null,
   "metadata": {},
   "outputs": [],
   "source": [
    "icu = list(hf_t.loc[hf_t[\"careunit\"].str.contains(\"Care Unit\")][\"hadm_id\"])"
   ]
  },
  {
   "cell_type": "code",
   "execution_count": null,
   "metadata": {
    "scrolled": true
   },
   "outputs": [],
   "source": [
    "first_dep = hf_t.groupby(\"hadm_id\").first()"
   ]
  },
  {
   "cell_type": "code",
   "execution_count": null,
   "metadata": {},
   "outputs": [],
   "source": [
    "hadms_f_d = list(first_dep.loc[first_dep[\"careunit\"] == \"Emergency Department\"].reset_index()[\"hadm_id\"])"
   ]
  },
  {
   "cell_type": "code",
   "execution_count": null,
   "metadata": {},
   "outputs": [],
   "source": [
    "hf_t_ed = hf_t.loc[hf_t[\"hadm_id\"].isin(hadms_f_d)]"
   ]
  },
  {
   "cell_type": "code",
   "execution_count": null,
   "metadata": {},
   "outputs": [],
   "source": [
    "hf_t_ed = hf_t_ed.loc[hf_t[\"hadm_id\"].isin(icu)]"
   ]
  },
  {
   "cell_type": "code",
   "execution_count": null,
   "metadata": {},
   "outputs": [],
   "source": [
    "hf_icu = hf_t_ed"
   ]
  },
  {
   "cell_type": "code",
   "execution_count": null,
   "metadata": {},
   "outputs": [],
   "source": [
    "hf_icu.loc[(hf_icu[\"careunit\"]==\"Emergency Department\"), \"department\"] = \"Emergency Department\""
   ]
  },
  {
   "cell_type": "code",
   "execution_count": null,
   "metadata": {},
   "outputs": [],
   "source": [
    "hf_icu.loc[(hf_icu[\"careunit\"].str.contains(\"CCU\")) | (hf_icu[\"careunit\"].str.contains(\"CVICU\")), \"department\"] = \"Cardiac ICU\""
   ]
  },
  {
   "cell_type": "code",
   "execution_count": null,
   "metadata": {},
   "outputs": [],
   "source": [
    "hf_icu.loc[(hf_icu[\"careunit\"].str.contains(\"SICU\")), \"department\"] = \"Surgical ICU\""
   ]
  },
  {
   "cell_type": "code",
   "execution_count": null,
   "metadata": {},
   "outputs": [],
   "source": [
    "hf_icu.loc[(hf_icu[\"careunit\"].str.contains(\"MICU\")) & (~hf_icu[\"careunit\"].str.contains(\"SICU\")), \"department\"] = \"Medical ICU\""
   ]
  },
  {
   "cell_type": "code",
   "execution_count": null,
   "metadata": {},
   "outputs": [],
   "source": [
    "hf_icu.loc[(hf_icu[\"careunit\"]== \"Medicine\"), \"department\"] = \"Medicine\""
   ]
  },
  {
   "cell_type": "code",
   "execution_count": null,
   "metadata": {},
   "outputs": [],
   "source": [
    "hf_icu.loc[(hf_icu[\"careunit\"]==\"Medicine/Cardiology\") | (hf_icu[\"careunit\"]==\"Medicine/Cardiology Intermediate\"), \"department\"] = \"Cardiology\""
   ]
  },
  {
   "cell_type": "code",
   "execution_count": null,
   "metadata": {},
   "outputs": [],
   "source": [
    "hf_icu.loc[(hf_icu[\"careunit\"]==\"Cardiology Surgery Intermediate\") | (hf_icu[\"careunit\"]==\"Cardiology Surger\") | (hf_icu[\"careunit\"].str.contains(\"Med/Surg\")), \"department\"] = \"Surgery\""
   ]
  },
  {
   "cell_type": "code",
   "execution_count": null,
   "metadata": {},
   "outputs": [],
   "source": [
    "hf_icu.loc[(hf_icu[\"careunit\"]== \"Discharged\"), \"department\"] = \"Discharged\""
   ]
  },
  {
   "cell_type": "code",
   "execution_count": null,
   "metadata": {},
   "outputs": [],
   "source": [
    "to_remove = list(hf_icu.loc[hf_icu[\"department\"].isna()][\"hadm_id\"].unique())"
   ]
  },
  {
   "cell_type": "code",
   "execution_count": null,
   "metadata": {},
   "outputs": [],
   "source": [
    "hf_icu_clean = hf_icu.loc[~hf_icu[\"hadm_id\"].isin(to_remove)]"
   ]
  },
  {
   "cell_type": "code",
   "execution_count": null,
   "metadata": {},
   "outputs": [],
   "source": [
    "hf_icu_clean[\"transfer_duration\"] = hf_icu_clean[\"outtime\"] - hf_icu_clean[\"intime\"]"
   ]
  },
  {
   "cell_type": "code",
   "execution_count": null,
   "metadata": {},
   "outputs": [],
   "source": [
    "hf_icu_clean = hf_icu_clean.reset_index().sort_values([\"hadm_id\", \"intime\"]).drop(\"index\", axis=1)"
   ]
  },
  {
   "cell_type": "code",
   "execution_count": null,
   "metadata": {},
   "outputs": [],
   "source": [
    "hf_icu_clean"
   ]
  },
  {
   "cell_type": "code",
   "execution_count": null,
   "metadata": {},
   "outputs": [],
   "source": [
    "newdf = pd.DataFrame(data=None, columns=hf_icu_clean.columns)"
   ]
  },
  {
   "cell_type": "code",
   "execution_count": null,
   "metadata": {},
   "outputs": [],
   "source": [
    "hadms = hf_icu_clean[\"hadm_id\"].unique()"
   ]
  },
  {
   "cell_type": "code",
   "execution_count": null,
   "metadata": {},
   "outputs": [],
   "source": [
    "d = {'subject_id':'first', 'hadm_id':'first', 'transfer_id':'first', 'eventtype':'first', 'careunit':'first', 'intime':'min', 'outtime':'max'}\n",
    "for i in hadms:\n",
    "    hadm = hf_icu_clean.loc[hf_icu_clean[\"hadm_id\"] == i]\n",
    "    consecutive_array = (hadm.department != hadm.department.shift()).cumsum().values\n",
    "    new_hadm = hadm.groupby([consecutive_array, 'department']).agg(d).reset_index(level=1)\n",
    "    newdf = pd.concat([newdf, new_hadm])\n",
    "    \n",
    "    "
   ]
  },
  {
   "cell_type": "code",
   "execution_count": null,
   "metadata": {},
   "outputs": [],
   "source": [
    "hf_consecutive = newdf"
   ]
  },
  {
   "cell_type": "code",
   "execution_count": null,
   "metadata": {},
   "outputs": [],
   "source": [
    "hadms = hf_consecutive[\"hadm_id\"].unique()"
   ]
  },
  {
   "cell_type": "code",
   "execution_count": null,
   "metadata": {},
   "outputs": [],
   "source": [
    "hf_consecutive = hf_consecutive.reset_index().drop(\"index\", axis=1)"
   ]
  },
  {
   "cell_type": "code",
   "execution_count": null,
   "metadata": {},
   "outputs": [],
   "source": [
    "hf_consecutive = hf_consecutive.reset_index()"
   ]
  },
  {
   "cell_type": "code",
   "execution_count": null,
   "metadata": {},
   "outputs": [],
   "source": [
    "hf_consecutive"
   ]
  },
  {
   "cell_type": "code",
   "execution_count": null,
   "metadata": {},
   "outputs": [],
   "source": [
    "icu_flag = 0\n",
    "for i in hadms:\n",
    "    hadm = hf_consecutive.loc[hf_consecutive[\"hadm_id\"] == i]\n",
    "    for index, row in hadm.iterrows():\n",
    "        r = row\n",
    "        if(\"ICU\" in row[\"department\"]):\n",
    "            icu_flag = 1\n",
    "        if((row[\"department\"] != \"Emergency Department\") & (row[\"department\"] != \"Discharged\") & (\"ICU\" not in row[\"department\"])):\n",
    "            if(icu_flag == 1):\n",
    "                hf_consecutive.at[row[\"index\"], \"department\"] = \"Post-ICU \" + row[\"department\"] \n",
    "            else:\n",
    "                hf_consecutive.at[row[\"index\"], \"department\"] = \"Pre-ICU \" + row[\"department\"] \n",
    "    icu_flag = 0"
   ]
  },
  {
   "cell_type": "code",
   "execution_count": null,
   "metadata": {},
   "outputs": [],
   "source": [
    "hf_consecutive[\"transfer_duration\"] = hf_consecutive[\"outtime\"] - hf_consecutive[\"intime\"]"
   ]
  },
  {
   "cell_type": "code",
   "execution_count": null,
   "metadata": {},
   "outputs": [],
   "source": [
    "hadms = list(hf_consecutive[\"hadm_id\"].unique())"
   ]
  },
  {
   "cell_type": "code",
   "execution_count": null,
   "metadata": {},
   "outputs": [],
   "source": [
    "#consider only patients which have been in the ICU once\n",
    "number_of_icu_visits = hf_consecutive.loc[hf_consecutive[\"department\"].str.contains('Cardiac ICU|Medical ICU|Surgical ICU')].groupby(\"hadm_id\").count().reset_index()"
   ]
  },
  {
   "cell_type": "code",
   "execution_count": null,
   "metadata": {},
   "outputs": [],
   "source": [
    "to_remove = list(number_of_icu_visits.loc[number_of_icu_visits[\"subject_id\"] > 1][\"hadm_id\"])"
   ]
  },
  {
   "cell_type": "code",
   "execution_count": null,
   "metadata": {},
   "outputs": [],
   "source": [
    "hf_consecutive = hf_consecutive.loc[~hf_consecutive[\"hadm_id\"].isin(to_remove)]"
   ]
  },
  {
   "cell_type": "code",
   "execution_count": null,
   "metadata": {},
   "outputs": [],
   "source": [
    "hf_consecutive = hf_consecutive[['subject_id', 'hadm_id', 'transfer_id', 'eventtype', 'careunit', 'intime', 'outtime', 'department', 'transfer_duration']]"
   ]
  },
  {
   "cell_type": "code",
   "execution_count": null,
   "metadata": {},
   "outputs": [],
   "source": [
    "to_merge = hf_icu_clean.drop([\"Unnamed: 0\", \"department\", \"transfer_duration\"], axis=1)"
   ]
  },
  {
   "cell_type": "code",
   "execution_count": null,
   "metadata": {},
   "outputs": [],
   "source": [
    "final_df = hf_consecutive.merge(to_merge, how=\"left\")"
   ]
  },
  {
   "cell_type": "code",
   "execution_count": null,
   "metadata": {},
   "outputs": [],
   "source": [
    "hf_consecutive.to_csv(\"Kidney_Failure_Log.csv\")"
   ]
  }
 ],
 "metadata": {
  "kernelspec": {
   "display_name": "Python 3 (ipykernel)",
   "language": "python",
   "name": "python3"
  },
  "language_info": {
   "codemirror_mode": {
    "name": "ipython",
    "version": 3
   },
   "file_extension": ".py",
   "mimetype": "text/x-python",
   "name": "python",
   "nbconvert_exporter": "python",
   "pygments_lexer": "ipython3",
   "version": "3.10.9"
  }
 },
 "nbformat": 4,
 "nbformat_minor": 4
}
