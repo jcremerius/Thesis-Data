{
 "cells": [
  {
   "cell_type": "code",
   "execution_count": null,
   "metadata": {
    "scrolled": true
   },
   "outputs": [],
   "source": [
    "import numpy as np\n",
    "from psycopg2 import connect\n",
    "import pandas as pd\n",
    "import pm4py\n",
    "import numpy as np\n",
    "import pandasql as ps\n",
    "from pm4py.objects.conversion.log import converter as log_converter\n",
    "from scipy.stats import variation\n",
    "from scipy import stats\n",
    "from pm4py.algo.discovery.dfg import algorithm as dfg_discovery\n",
    "from pm4py.visualization.dfg import visualizer as dfg_visualization\n",
    "from pm4py.statistics.eventually_follows.log import get as efg_get\n",
    "import matplotlib.cm as cm\n",
    "import matplotlib.pyplot as plt\n",
    "import sklearn.preprocessing as sk\n",
    "from scipy.stats import chi2_contingency\n",
    "import math\n",
    "import statistics\n",
    "import pingouin as pg\n",
    "import graphviz\n",
    "from statsmodels.stats import multitest\n",
    "from statsmodels.stats.contingency_tables import SquareTable as ST"
   ]
  },
  {
   "cell_type": "code",
   "execution_count": null,
   "metadata": {},
   "outputs": [],
   "source": [
    "df = pd.read_csv(\"Logs/MIMIC_Log_Raw.csv\")"
   ]
  },
  {
   "cell_type": "code",
   "execution_count": null,
   "metadata": {},
   "outputs": [],
   "source": [
    "df = df.rename({\"hadm_id\":\"case:hadm_id\"}, axis=1)"
   ]
  },
  {
   "cell_type": "code",
   "execution_count": null,
   "metadata": {},
   "outputs": [],
   "source": [
    "label_list = [\"Dialysis - CRRT\", \"Hemodialysis\", \"Non-invasive Ventilation\", \"Invasive Ventilation\"]"
   ]
  },
  {
   "cell_type": "code",
   "execution_count": null,
   "metadata": {},
   "outputs": [],
   "source": [
    "proc_re = df.loc[df[\"concept:name\"].isin(label_list)]"
   ]
  },
  {
   "cell_type": "code",
   "execution_count": null,
   "metadata": {},
   "outputs": [],
   "source": [
    "proc_re[\"time:timestamp\"] = proc_re[\"time:timestamp\"].apply(lambda x: pd.to_datetime(x))\n",
    "proc_re[\"endtime\"] = proc_re[\"endtime\"].apply(lambda x: pd.to_datetime(x))"
   ]
  },
  {
   "cell_type": "code",
   "execution_count": null,
   "metadata": {},
   "outputs": [],
   "source": [
    "hadms = list(proc_re[\"case:hadm_id\"].unique())"
   ]
  },
  {
   "cell_type": "code",
   "execution_count": null,
   "metadata": {},
   "outputs": [],
   "source": [
    "proc_re = proc_re[[\"case:hadm_id\", \"time:timestamp\", \"endtime\", \"ordercategoryname\", \"category\", \"concept:name\"]]"
   ]
  },
  {
   "cell_type": "code",
   "execution_count": null,
   "metadata": {},
   "outputs": [],
   "source": [
    "marker_list = [\"Creatinine (serum)\", \"BUN\", \"Anion gap\", \"Hematocrit (serum)\", \"Heart Rate\", \"Respiratory Rate\", \"O2 saturation pulseoxymetry\", \"Non Invasive Blood Pressure systolic\", \"Non Invasive Blood Pressure diastolic\"]"
   ]
  },
  {
   "cell_type": "code",
   "execution_count": null,
   "metadata": {},
   "outputs": [],
   "source": [
    "meas = df.loc[df[\"label\"].isin(marker_list)]"
   ]
  },
  {
   "cell_type": "code",
   "execution_count": null,
   "metadata": {},
   "outputs": [],
   "source": [
    "meas = meas.sort_values([\"case:hadm_id\", \"time:timestamp\"])"
   ]
  },
  {
   "cell_type": "code",
   "execution_count": null,
   "metadata": {},
   "outputs": [],
   "source": [
    "meas_log = meas.copy()"
   ]
  },
  {
   "cell_type": "code",
   "execution_count": null,
   "metadata": {},
   "outputs": [],
   "source": [
    "meas_log[\"concept:name\"] = \"Measurement\""
   ]
  },
  {
   "cell_type": "code",
   "execution_count": null,
   "metadata": {},
   "outputs": [],
   "source": [
    "meas_log = meas_log.drop_duplicates([\"case:hadm_id\", \"time:timestamp\", \"concept:name\"])"
   ]
  },
  {
   "cell_type": "code",
   "execution_count": null,
   "metadata": {},
   "outputs": [],
   "source": [
    "meas_log = meas_log.loc[meas_log[\"case:hadm_id\"].isin(hadms)]"
   ]
  },
  {
   "cell_type": "code",
   "execution_count": null,
   "metadata": {
    "scrolled": true
   },
   "outputs": [],
   "source": [
    "#make endtime represented as second event\n",
    "proc_re = proc_re.reset_index().drop(\"index\", axis=1)"
   ]
  },
  {
   "cell_type": "code",
   "execution_count": null,
   "metadata": {},
   "outputs": [],
   "source": [
    "rows_list = []\n",
    "\n",
    "for index, row in proc_re.iterrows():\n",
    "    r = row\n",
    "    r = r.drop(\"time:timestamp\", axis=\"index\")\n",
    "    r = r.rename({\"endtime\":\"time:timestamp\"})\n",
    "    r[\"concept:name\"] = \"END \" + r[\"concept:name\"]\n",
    "    rows_list.append(r)\n",
    "\n",
    "to_concat = pd.DataFrame(rows_list)"
   ]
  },
  {
   "cell_type": "code",
   "execution_count": null,
   "metadata": {},
   "outputs": [],
   "source": [
    "proc_start = proc_re"
   ]
  },
  {
   "cell_type": "code",
   "execution_count": null,
   "metadata": {},
   "outputs": [],
   "source": [
    "proc_start[\"concept:name\"] = \"START \" + proc_start[\"concept:name\"]"
   ]
  },
  {
   "cell_type": "code",
   "execution_count": null,
   "metadata": {},
   "outputs": [],
   "source": [
    "proc_start.drop(\"endtime\", axis=1, inplace=True)"
   ]
  },
  {
   "cell_type": "code",
   "execution_count": null,
   "metadata": {},
   "outputs": [],
   "source": [
    "proc_start_end = pd.concat([proc_start, to_concat])"
   ]
  },
  {
   "cell_type": "code",
   "execution_count": null,
   "metadata": {},
   "outputs": [],
   "source": [
    "proc_start_end = proc_start_end.sort_values([\"case:hadm_id\", \"time:timestamp\"])\n",
    "proc_start_end = proc_start_end.reset_index().drop(\"index\", axis=1)"
   ]
  },
  {
   "cell_type": "code",
   "execution_count": null,
   "metadata": {
    "scrolled": true
   },
   "outputs": [],
   "source": [
    "proc_start_end"
   ]
  },
  {
   "cell_type": "code",
   "execution_count": null,
   "metadata": {},
   "outputs": [],
   "source": [
    "meas_log = meas_log.reset_index().drop(\"index\", axis=1)"
   ]
  },
  {
   "cell_type": "code",
   "execution_count": null,
   "metadata": {},
   "outputs": [],
   "source": [
    "chart_proc_start_end = pd.concat([proc_start_end, meas_log])"
   ]
  },
  {
   "cell_type": "code",
   "execution_count": null,
   "metadata": {},
   "outputs": [],
   "source": [
    "chart_proc_start_end = chart_proc_start_end.sort_values([\"case:hadm_id\", \"time:timestamp\"])"
   ]
  },
  {
   "cell_type": "code",
   "execution_count": null,
   "metadata": {},
   "outputs": [],
   "source": [
    "meas[\"charttime\"] = meas[\"charttime\"].apply(lambda x: pd.to_datetime(x))"
   ]
  },
  {
   "cell_type": "code",
   "execution_count": null,
   "metadata": {},
   "outputs": [],
   "source": [
    "#separate into category/value label"
   ]
  },
  {
   "cell_type": "code",
   "execution_count": null,
   "metadata": {},
   "outputs": [],
   "source": [
    "labels = meas[\"label\"].unique()"
   ]
  },
  {
   "cell_type": "code",
   "execution_count": null,
   "metadata": {},
   "outputs": [],
   "source": [
    "#Link measurments to activities\n",
    "time_from_last_proc_event = pd.to_datetime(0)\n",
    "time_from_next_proc_event = pd.to_datetime(290, unit=\"Y\")\n",
    "rows_list = []\n",
    "for index, row in proc_start_end.iterrows():\n",
    "    row_to_add = {}\n",
    "    hadm_id = row[\"case:hadm_id\"]\n",
    "    act = row[\"concept:name\"]\n",
    "    if index == len(proc_start_end) - 1:\n",
    "        time_from_next_proc_event = pd.to_datetime(290, unit=\"Y\")\n",
    "    elif proc_start_end.iloc[index+1][\"case:hadm_id\"] == hadm_id:\n",
    "        time_from_next_proc_event = proc_start_end.iloc[index+1][\"time:timestamp\"]\n",
    "    else:\n",
    "        time_from_next_proc_event = pd.to_datetime(290, unit=\"Y\")\n",
    "    is_start = \"START\" in act\n",
    "    meas_p = meas.loc[meas[\"case:hadm_id\"] == hadm_id]\n",
    "    if is_start:\n",
    "        meas_p[\"time_delta\"] = row[\"time:timestamp\"] - meas_p[\"charttime\"]\n",
    "        meas_p = meas_p.loc[(meas_p[\"time_delta\"] > pd.Timedelta(0)) & (meas_p[\"charttime\"] > time_from_last_proc_event)]\n",
    "        row_to_add[\"concept:name\"] = \"Measurement\"\n",
    "    else:\n",
    "        meas_p[\"time_delta\"] = meas_p[\"charttime\"] - row[\"time:timestamp\"] \n",
    "        meas_p = meas_p.loc[(meas_p[\"time_delta\"] > pd.Timedelta(0)) & (meas_p[\"charttime\"] < time_from_next_proc_event)]\n",
    "        row_to_add[\"concept:name\"] = \"Measurement\"\n",
    "    row_to_add[\"case:hadm_id\"] = hadm_id\n",
    "    row_to_add[\"time:timestamp\"] = None\n",
    "    for lab in labels: \n",
    "        lab_val = meas_p.loc[meas_p[\"label\"] == lab]\n",
    "        try:\n",
    "            closest_val_index = lab_val[\"time_delta\"].idxmin()\n",
    "            closest_val_row = lab_val.loc[closest_val_index]\n",
    "            row_to_add[lab] = closest_val_row[\"valuenum\"]\n",
    "            if row_to_add[\"time:timestamp\"] is None:\n",
    "                row_to_add[\"time:timestamp\"] = closest_val_row[\"charttime\"]\n",
    "            if is_start:\n",
    "                if closest_val_row[\"charttime\"] > row_to_add[\"time:timestamp\"]:\n",
    "                    row_to_add[\"time:timestamp\"] = closest_val_row[\"charttime\"]\n",
    "            else: \n",
    "                if closest_val_row[\"charttime\"] < row_to_add[\"time:timestamp\"]:\n",
    "                    row_to_add[\"time:timestamp\"] = closest_val_row[\"charttime\"]\n",
    "        except:\n",
    "            row_to_add[lab] = None\n",
    "    if index == len(proc_start_end) -1:\n",
    "        time_from_last_proc_event = pd.to_datetime(0)\n",
    "    elif proc_start_end.iloc[index+1][\"case:hadm_id\"] == hadm_id:\n",
    "        time_from_last_proc_event = row[\"time:timestamp\"]\n",
    "    else:\n",
    "        time_from_last_proc_event = pd.to_datetime(0)\n",
    "    if row_to_add[\"time:timestamp\"] is not None:\n",
    "        rows_list.append(row_to_add)\n",
    "meas_events = pd.DataFrame(rows_list)"
   ]
  },
  {
   "cell_type": "code",
   "execution_count": null,
   "metadata": {},
   "outputs": [],
   "source": [
    "final_log = pd.concat([proc_start_end, meas_events])"
   ]
  },
  {
   "cell_type": "code",
   "execution_count": null,
   "metadata": {},
   "outputs": [],
   "source": [
    "final_log = final_log.sort_values([\"case:hadm_id\", \"time:timestamp\"])"
   ]
  },
  {
   "cell_type": "code",
   "execution_count": null,
   "metadata": {},
   "outputs": [],
   "source": [
    "final_log.to_csv(\"Logs/MIMIC_Log.csv\")"
   ]
  }
 ],
 "metadata": {
  "kernelspec": {
   "display_name": "Python 3",
   "language": "python",
   "name": "python3"
  },
  "language_info": {
   "codemirror_mode": {
    "name": "ipython",
    "version": 3
   },
   "file_extension": ".py",
   "mimetype": "text/x-python",
   "name": "python",
   "nbconvert_exporter": "python",
   "pygments_lexer": "ipython3",
   "version": "3.8.3"
  }
 },
 "nbformat": 4,
 "nbformat_minor": 4
}
